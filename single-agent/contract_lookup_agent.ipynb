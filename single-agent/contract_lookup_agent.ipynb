{
 "cells": [
  {
   "cell_type": "markdown",
   "metadata": {},
   "source": [
    "# 事前準備"
   ]
  },
  {
   "cell_type": "code",
   "execution_count": 1,
   "metadata": {},
   "outputs": [
    {
     "name": "stdout",
     "output_type": "stream",
     "text": [
      "Note: you may need to restart the kernel to use updated packages.\n"
     ]
    },
    {
     "name": "stderr",
     "output_type": "stream",
     "text": [
      "WARNING: There was an error checking the latest version of pip.\n"
     ]
    }
   ],
   "source": [
    "# 依存関係のインストール\n",
    "%pip install -r ../requirements.txt --quiet"
   ]
  },
  {
   "cell_type": "code",
   "execution_count": 14,
   "metadata": {},
   "outputs": [],
   "source": [
    "# モジュールのインポート\n",
    "import requests\n",
    "import json\n",
    "import os\n",
    "from typing import Any, Callable, Set\n",
    "from dotenv import load_dotenv\n",
    "from pprint import pprint\n",
    "\n",
    "from azure.identity import DefaultAzureCredential\n",
    "from azure.ai.projects.models import FunctionTool, ToolSet\n",
    "from azure.ai.projects import AIProjectClient\n",
    "from azure.cosmos import CosmosClient"
   ]
  },
  {
   "cell_type": "code",
   "execution_count": 15,
   "metadata": {},
   "outputs": [],
   "source": [
    "# 環境変数の読み込み\n",
    "load_dotenv(override=True)\n",
    "\n",
    "URL = os.getenv(\"ACCOUNT_URI\")\n",
    "KEY = os.getenv(\"ACCOUNT_KEY\")\n",
    "PROJECT_CONNECTION_STRING = os.getenv(\"PROJECT_CONNECTION_STRING\")\n",
    "LOGIC_APPS = os.getenv(\"LOGIC_APPS\")"
   ]
  },
  {
   "cell_type": "markdown",
   "metadata": {},
   "source": [
    "AI Project クライアントを初期化します。"
   ]
  },
  {
   "cell_type": "code",
   "execution_count": 31,
   "metadata": {},
   "outputs": [],
   "source": [
    "# AI Project Client の初期化\n",
    "project_client = AIProjectClient.from_connection_string(\n",
    "    credential=DefaultAzureCredential(), conn_str=PROJECT_CONNECTION_STRING\n",
    ")"
   ]
  },
  {
   "cell_type": "markdown",
   "metadata": {},
   "source": [
    "ここでは、Azure AI Agent Service の Run で行われている処理を確認するためのユーティリティ関数を定義しています。"
   ]
  },
  {
   "cell_type": "code",
   "execution_count": 32,
   "metadata": {},
   "outputs": [],
   "source": [
    "# ユーティリティ関数の定義\n",
    "def print_run_steps(run_id: str, thread_id: str):\n",
    "    \"\"\"\n",
    "    Run Step の詳細を表示する関数\n",
    "\n",
    "    :param run_id: Run ID\n",
    "    :rtype run_id: str\n",
    "    :param thread: Thread ID\n",
    "    :rtype run_id: str\n",
    "    \"\"\"\n",
    "    ren_step_list = project_client.agents.list_run_steps(\n",
    "        thread_id=thread_id, run_id = run_id\n",
    "    )\n",
    "\n",
    "    run_steps = reversed(ren_step_list[\"data\"])\n",
    "\n",
    "    for idx, step in enumerate(run_steps, start=1):\n",
    "        print(f\"\\n=== Run Step {idx} ===\")\n",
    "        print(f\"Type: {step['type']}\")\n",
    "\n",
    "        step_details = step['step_details']\n",
    "        step_type = step_details.get('type')\n",
    "\n",
    "        print(\"Details:\")\n",
    "        if step_type == 'tool_calls':\n",
    "            for call in step_details.get('tool_calls', []):\n",
    "                function = call.get('function', {})\n",
    "                print(f\"- Function Name: {function.get('name')}\")\n",
    "                print(f\"- Arguments: {function.get('arguments')}\")\n",
    "        elif step_type == 'message_creation':\n",
    "            message_id = step_details.get('message_creation').get('message_id')\n",
    "            message = project_client.agents.get_message(\n",
    "                thread_id=thread_id, message_id=message_id\n",
    "            )\n",
    "            print(message.content[0].text.value)\n",
    "        else:\n",
    "            pprint(step_details, indent=4, width=120)"
   ]
  },
  {
   "cell_type": "markdown",
   "metadata": {},
   "source": [
    "# カスタム関数の定義"
   ]
  },
  {
   "cell_type": "markdown",
   "metadata": {},
   "source": [
    "エージェントに持たせるカスタム関数を定義します。\n",
    "まずは、先ほど作成した Cosmos DB からデータを取得する関数（`contract_lookup`）を作成します。"
   ]
  },
  {
   "cell_type": "code",
   "execution_count": 33,
   "metadata": {},
   "outputs": [],
   "source": [
    "def contract_lookup(user_id: int) -> str:\n",
    "    \"\"\"\n",
    "    ユーザーIDに基づいてユーザー情報を JSON 文字列で返します。ユーザー情報は変更しないでください。\n",
    "\n",
    "    :param user_id (int): ユーザーのID\n",
    "    :rtype: int\n",
    "\n",
    "    :return: JSON 文字列のユーザー情報.\n",
    "    :rtype: str\n",
    "    \"\"\"\n",
    "    # Cosmos DB Client の初期化\n",
    "    client = CosmosClient(url=URL, credential=KEY)\n",
    "    database = client.get_database_client(\"cosmicworks\")\n",
    "    container = database.get_container_client(\"users\")\n",
    "\n",
    "    # ユーザー情報を取得するためのクエリ\n",
    "    queryText = f'SELECT * FROM users u WHERE u.id = \"{user_id}\"'\n",
    "\n",
    "    # Cosmos DB からユーザー情報を取得\n",
    "    results = container.query_items(\n",
    "        query=queryText,\n",
    "        enable_cross_partition_query=True,\n",
    "    )\n",
    "\n",
    "    items = [item for item in results]\n",
    "    output = items[0] if items else {}\n",
    "\n",
    "    return json.dumps(output)\n"
   ]
  },
  {
   "cell_type": "markdown",
   "metadata": {},
   "source": [
    "次に、Logic Apps を利用したメール送信関数（`send_email`）を定義します。"
   ]
  },
  {
   "cell_type": "code",
   "execution_count": 34,
   "metadata": {},
   "outputs": [],
   "source": [
    "def send_email(customer: str, staff_email: str, inquiry: str) -> str:\n",
    "    \"\"\"\n",
    "    お客様から担当者のメールアドレスにお問い合わせがあったことを通知\n",
    "\n",
    "    :param customer (str): お客様の名前\n",
    "    :rtype: str\n",
    "\n",
    "    :param staff_email (str) : 担当者のメールアドレス\n",
    "    :rtype: str\n",
    "\n",
    "    :param inquiry (str) : 保険に関するお問い合わせ内容\n",
    "    :rtype: str\n",
    "\n",
    "    :return: JSON 文字列のユーザー情報.\n",
    "    :rtype: str\n",
    "    \"\"\"\n",
    "    headers = {\"Content-Type\": \"application/json\"}\n",
    "    payload = {\"customer\": customer, \"inquiry\": inquiry, \"staff_email\": staff_email}\n",
    "\n",
    "    endpoint_url = LOGIC_APPS\n",
    "\n",
    "    try:\n",
    "        response = requests.post(\n",
    "            endpoint_url, headers=headers, data=json.dumps(payload)\n",
    "        )\n",
    "        response.raise_for_status()\n",
    "        status = json.dumps({\"status\": \"メールで通知が完了しました\"})\n",
    "        return status\n",
    "    except requests.exceptions.RequestException as err:\n",
    "        print(f\"エラー: {err}\")\n",
    "        return json.dumps({\"status\": \"メールで通知に失敗しました\"})"
   ]
  },
  {
   "cell_type": "markdown",
   "metadata": {},
   "source": [
    "最後に、`contract_lookup` 関数と `send_email` 関数を `ToolSet` オブジェクトに設定します。これにより、後でエージェントを作成する際に本ツールセットを指定して、これらのカスタム関数をエージェントのツールとして利用できるようになります。"
   ]
  },
  {
   "cell_type": "code",
   "execution_count": 35,
   "metadata": {},
   "outputs": [],
   "source": [
    "# Toolset の作成＆関数の追加\n",
    "user_functions: Set[Callable[..., Any]] = {contract_lookup, send_email}\n",
    "functions = FunctionTool(user_functions)\n",
    "toolset = ToolSet()\n",
    "toolset.add(functions)"
   ]
  },
  {
   "cell_type": "markdown",
   "metadata": {},
   "source": [
    "# Azure AI Agent Service の実行"
   ]
  },
  {
   "cell_type": "markdown",
   "metadata": {},
   "source": [
    "`create_agent` メソッドを用いてエージェント作成します。"
   ]
  },
  {
   "cell_type": "code",
   "execution_count": 36,
   "metadata": {},
   "outputs": [
    {
     "name": "stdout",
     "output_type": "stream",
     "text": [
      "Created Agent. AGENT_ID: asst_wntFXIjPuz54McKdd5sAqhMU\n"
     ]
    }
   ],
   "source": [
    "# Agent の作成\n",
    "agent = project_client.agents.create_agent(\n",
    "    model=\"gpt-4o\",\n",
    "    name=\"Contract Lookup Agent\",\n",
    "    instructions=\"\"\"\n",
    "あなたは、丁寧なアシスタントです。あなたは以下の業務を遂行します。\n",
    "- 保険の契約をしているユーザーの情報について回答します\n",
    "- お客様から担当者にお問い合わせメールを通知します\n",
    "\n",
    "# 制約事項\n",
    "- ユーザーからのメッセージは日本語で入力されます\n",
    "- ユーザーからのメッセージから忠実に情報を抽出し、それに基づいて応答を生成します。\n",
    "- ユーザーからのメッセージに勝手に情報を追加したり、不要な改行文字 \\n を追加してはいけません\n",
    "\n",
    "\"\"\", \n",
    "    toolset=toolset,\n",
    "    headers={\"x-ms-enable-preview\": \"true\"},\n",
    ")\n",
    "\n",
    "print(f\"Created Agent. AGENT_ID: {agent.id}\")"
   ]
  },
  {
   "cell_type": "markdown",
   "metadata": {},
   "source": [
    "次に、スレッドを初期化し、ユーザーメッセージをスレッドに登録します。"
   ]
  },
  {
   "cell_type": "code",
   "execution_count": 37,
   "metadata": {},
   "outputs": [
    {
     "name": "stdout",
     "output_type": "stream",
     "text": [
      "Created Thread. THREAD_ID: thread_9FPs1Z1PPz4wyA1CavmAETiz\n"
     ]
    }
   ],
   "source": [
    "# Thread の作成\n",
    "thread = project_client.agents.create_thread()\n",
    "\n",
    "print(f\"Created Thread. THREAD_ID: {thread.id}\")"
   ]
  },
  {
   "cell_type": "code",
   "execution_count": 38,
   "metadata": {},
   "outputs": [
    {
     "name": "stdout",
     "output_type": "stream",
     "text": [
      "Added Message. MESSAGE_ID: msg_6sjgkQvailrGRQ3Lqr1hfipw\n"
     ]
    }
   ],
   "source": [
    "# メッセージの追加\n",
    "user_message_01 = \"ユーザー ID 1234 です。保険の加入状況を教えて。\"\n",
    "\n",
    "message = project_client.agents.create_message(\n",
    "    thread_id=thread.id,\n",
    "    role=\"user\",\n",
    "    content=user_message_01,\n",
    ")\n",
    "\n",
    "print(f\"Added Message. MESSAGE_ID: {message.id}\")"
   ]
  },
  {
   "cell_type": "markdown",
   "metadata": {},
   "source": [
    "次に、Run を実行し、エージェントの回答を生成します。"
   ]
  },
  {
   "cell_type": "code",
   "execution_count": 39,
   "metadata": {},
   "outputs": [
    {
     "name": "stdout",
     "output_type": "stream",
     "text": [
      "Run finished with status: RunStatus.COMPLETED\n"
     ]
    }
   ],
   "source": [
    "# Run 実行\n",
    "run = project_client.agents.create_and_process_run(\n",
    "    thread_id=thread.id, agent_id = agent.id\n",
    ")\n",
    "print(f\"Run finished with status: {run.status}\")"
   ]
  },
  {
   "cell_type": "markdown",
   "metadata": {},
   "source": [
    "Run が正常に終了したら、スレッドからエージェントの回答を取得し出力します。"
   ]
  },
  {
   "cell_type": "code",
   "execution_count": 40,
   "metadata": {},
   "outputs": [
    {
     "name": "stdout",
     "output_type": "stream",
     "text": [
      "ユーザー ID 1234 の加入情報は以下の通りです。\n",
      "\n",
      "- お名前: 佐藤太郎\n",
      "- 加入プラン: 安心保障プラン\n",
      "\n",
      "何か他にご質問があればお知らせください。\n"
     ]
    }
   ],
   "source": [
    "# 最新のレスポンスを取得\n",
    "messages = project_client.agents.list_messages(thread_id=thread.id)\n",
    "last_msg = messages.get_last_text_message_by_role(\"assistant\")\n",
    "response = last_msg.text.value if last_msg else None\n",
    "\n",
    "if response is None:\n",
    "    response = \"No response found.\"\n",
    "else:\n",
    "    print(response)"
   ]
  },
  {
   "cell_type": "markdown",
   "metadata": {},
   "source": [
    "エージェントがどのように回答を生成したのか、Run Steps を確認してみましょう。"
   ]
  },
  {
   "cell_type": "code",
   "execution_count": 41,
   "metadata": {},
   "outputs": [
    {
     "name": "stdout",
     "output_type": "stream",
     "text": [
      "\n",
      "=== Run Step 1 ===\n",
      "Type: tool_calls\n",
      "Details:\n",
      "- Function Name: contract_lookup\n",
      "- Arguments: {\"user_id\":1234}\n",
      "\n",
      "=== Run Step 2 ===\n",
      "Type: message_creation\n",
      "Details:\n",
      "ユーザー ID 1234 の加入情報は以下の通りです。\n",
      "\n",
      "- お名前: 佐藤太郎\n",
      "- 加入プラン: 安心保障プラン\n",
      "\n",
      "何か他にご質問があればお知らせください。\n"
     ]
    }
   ],
   "source": [
    "# Run Step の詳細（Agent の動きを確認）\n",
    "print_run_steps(run_id=run.id, thread_id=thread.id)\n"
   ]
  },
  {
   "cell_type": "markdown",
   "metadata": {},
   "source": [
    "次に、メール送信を依頼します。同じスレッドにユーザーメッセージを書き込み、エージェントに Run を実行させることで続けて会話が可能です。"
   ]
  },
  {
   "cell_type": "code",
   "execution_count": 42,
   "metadata": {},
   "outputs": [
    {
     "name": "stdout",
     "output_type": "stream",
     "text": [
      "担当者に「保険の見直しをお願いしたい」という内容でメールを送信し、通知を完了しました。担当者からの返信をお待ちください。何か他にサポートが必要であればお知らせください。\n"
     ]
    }
   ],
   "source": [
    "########################################\n",
    "##  (２ターン目) 続けてメール送信を依頼  ##\n",
    "########################################\n",
    "\n",
    "# メッセージの追加\n",
    "user_message_01 = \"担当者に保険の見直しをお願いしたい。メールで通知して。\"\n",
    "message = project_client.agents.create_message(\n",
    "    thread_id=thread.id,\n",
    "    role=\"user\",\n",
    "    content=user_message_01,\n",
    ")\n",
    "\n",
    "# Run 実行\n",
    "run = project_client.agents.create_and_process_run(\n",
    "    thread_id=thread.id, agent_id = agent.id\n",
    ")\n",
    "\n",
    "# 最新のレスポンスを取得\n",
    "messages = project_client.agents.list_messages(thread_id=thread.id)\n",
    "last_msg = messages.get_last_text_message_by_role(\"assistant\")\n",
    "response = last_msg.text.value if last_msg else None\n",
    "\n",
    "if response is None:\n",
    "    response = \"No response found.\"\n",
    "else:\n",
    "    print(response)"
   ]
  },
  {
   "cell_type": "code",
   "execution_count": 43,
   "metadata": {},
   "outputs": [
    {
     "name": "stdout",
     "output_type": "stream",
     "text": [
      "\n",
      "=== Run Step 1 ===\n",
      "Type: tool_calls\n",
      "Details:\n",
      "- Function Name: send_email\n",
      "- Arguments: {\"customer\":\"佐藤太郎\",\"staff_email\":\"xxxxxxxx@microsoft.com\",\"inquiry\":\"保険の見直しをお願いしたい。\"}\n",
      "\n",
      "=== Run Step 2 ===\n",
      "Type: message_creation\n",
      "Details:\n",
      "担当者に「保険の見直しをお願いしたい」という内容でメールを送信し、通知を完了しました。担当者からの返信をお待ちください。何か他にサポートが必要であればお知らせください。\n"
     ]
    }
   ],
   "source": [
    "# Run Step の詳細（Agent の動きを確認）\n",
    "print_run_steps(run_id=run.id, thread_id=thread.id)\n"
   ]
  },
  {
   "cell_type": "markdown",
   "metadata": {},
   "source": [
    "# （任意）プレイグラウンドで確認"
   ]
  },
  {
   "cell_type": "markdown",
   "metadata": {},
   "source": [
    "作成したエージェントは、Azure AI Foundry 上のプレイグラウンドからも操作できるので確認してみましょう。\n",
    "\n",
    "1. Azure Portal を開き、[リソースグループ] を展開。ここまで使用している該当のリソースグループを選択してください。\n",
    " ![image01-16](../images/image01-16.png)\n",
    " \n",
    "2. リソースの一覧から演習0で作成した Azure AI Project を選択。\n",
    " ![image01-36](../images/image01-36.png)\n",
    "\n",
    "4. その後、[Launch Studio] からAzure Ai Foundryを起動。\n",
    " ![image01-37](../images/image01-37.png)\n",
    "\n",
    " 5. 起動後、画面左にある [エージェント] を選択。\n",
    " \n",
    " 6. 作成した `Contract Lookup Agent` を選択、右の [プレイグラウンドで試す] を選択。\n",
    " ![image02-28](../images/image02-28.png) \n",
    "\n",
    " 7. プレイグラウンドで試す\n",
    " ![プレイグラウンドで確認](../images/image02-21.png)\n"
   ]
  },
  {
   "cell_type": "markdown",
   "metadata": {},
   "source": [
    "# エージェントとスレッドの削除"
   ]
  },
  {
   "cell_type": "markdown",
   "metadata": {},
   "source": [
    "最後に、エージェントとスレッドを削除します。"
   ]
  },
  {
   "cell_type": "code",
   "execution_count": 44,
   "metadata": {},
   "outputs": [
    {
     "name": "stdout",
     "output_type": "stream",
     "text": [
      "Agent と Thread を削除しました。\n"
     ]
    }
   ],
   "source": [
    "# Agent と Thread の削除\n",
    "project_client.agents.delete_thread(thread_id=thread.id)\n",
    "project_client.agents.delete_agent(agent_id=agent.id)\n",
    "print(\"Agent と Thread を削除しました。\")"
   ]
  }
 ],
 "metadata": {
  "kernelspec": {
   "display_name": ".venv",
   "language": "python",
   "name": "python3"
  },
  "language_info": {
   "codemirror_mode": {
    "name": "ipython",
    "version": 3
   },
   "file_extension": ".py",
   "mimetype": "text/x-python",
   "name": "python",
   "nbconvert_exporter": "python",
   "pygments_lexer": "ipython3",
   "version": "3.11.0"
  }
 },
 "nbformat": 4,
 "nbformat_minor": 2
}
