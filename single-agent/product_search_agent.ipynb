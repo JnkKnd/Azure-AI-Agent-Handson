{
 "cells": [
  {
   "cell_type": "markdown",
   "id": "ed3e7061",
   "metadata": {},
   "source": [
    "## 事前準備"
   ]
  },
  {
   "cell_type": "markdown",
   "id": "1df1d152",
   "metadata": {},
   "source": [
    "### 必要なライブラリのインポート\n",
    "\n",
    "以下のコードでは、Azure AI のプロジェクトや検索機能を操作するために必要なライブラリをインポートしています。\n",
    "\n",
    "- dotenv： `.env` ファイルから環境変数を読み込むために使用します。\n",
    "- os, json： ファイル操作や環境変数の取得に利用します。\n",
    "- typing： 関数の型ヒントなどに使用します。\n",
    "- azure.identity： Azure リソースへの認証を行うためのクレデンシャル（`DefaultAzureCredential`）を提供します。\n",
    "- azure.core.credentials： Azure Search にアクセスする際の API キー認証に使用されます。\n",
    "- azure.ai.projects： Azure AI Projects SDK を通じて、エージェントやツール、実行管理などを操作します。\n",
    "- azure.search.documents： Azure AI Search のクライアントライブラリで、インデックス検索などを行います。\n",
    "- azure.ai.projects.models： 検索ツール（`BingGroundingTool`）やコード実行ツール（`CodeInterpreterTool`）など、エージェントに組み込むツールを定義するためのモジュールです。\n"
   ]
  },
  {
   "cell_type": "code",
   "execution_count": null,
   "id": "d34cac7b",
   "metadata": {},
   "outputs": [],
   "source": [
    "import json\n",
    "import os\n",
    "from dotenv import load_dotenv\n",
    "from typing import Any, Callable, Set\n",
    "from azure.identity import DefaultAzureCredential\n",
    "from azure.core.credentials import AzureKeyCredential\n",
    "from azure.ai.projects import AIProjectClient\n",
    "from azure.search.documents import SearchClient\n",
    "from azure.ai.projects.models import FunctionTool, ToolSet, BingGroundingTool, CodeInterpreterTool\n",
    "from azure.ai.projects import AIProjectClient"
   ]
  },
  {
   "cell_type": "markdown",
   "id": "6a1689f6",
   "metadata": {},
   "source": [
    "### 環境変数と接続設定の読み込み\n",
    "\n",
    "このセクションでは、`.env` ファイルから各種接続情報を環境変数として読み込み、後続の処理で使用できるようにします。\n"
   ]
  },
  {
   "cell_type": "code",
   "execution_count": null,
   "id": "f1bcf910",
   "metadata": {},
   "outputs": [],
   "source": [
    "# 環境変数と接続設定の読み込み\n",
    "load_dotenv()\n",
    "AI_SEARCH_ENDPOINT = os.getenv(\"AI_SEARCH_ENDPOINT\")\n",
    "INDEX_NAME = os.getenv(\"INDEX_NAME\")\n",
    "AI_SEARCH_KEY = os.getenv(\"AI_SEARCH_KEY\")\n",
    "\n",
    "PROJECT_CONNECTION_STRING = os.getenv(\"PROJECT_CONNECTION_STRING\")\n",
    "BING_CONNECTION_NAME = os.getenv(\"BING_CONNECTION_NAME\")"
   ]
  },
  {
   "cell_type": "markdown",
   "id": "8ac27985",
   "metadata": {},
   "source": [
    "### Code Interpreter ツールの定義とクライアントの初期化\n",
    "\n",
    "以下のコードでは、Azure AI エージェントに機能を追加するためのツール定義と、各種クライアント（AI Project、Bing、Search）を初期化しています。\n",
    "\n",
    "主なクラス・ツールの役割\n",
    "\n",
    "- `CodeInterpreterTool()`：エージェントが Python コードの生成・実行を行えるようにするツールです。実行結果はテキストや画像形式で取得でき、画像は保存して可視化することも可能です。\n",
    "\n",
    "- `AIProjectClient`：Azure AI Project に接続するためのクライアントです。エージェントの管理、実行、接続情報の取得などを一括して扱うことができます。\n",
    "\n",
    "- `DefaultAzureCredential()`：Azure リソースへのアクセスを行うための標準的な認証方式です。開発中はVisual Studio CodeやAzure CLIの認証情報を使い、本番環境ではマネージドIDを自動的に利用します。\n",
    "\n",
    "- `project_client.connections.get()`：AI Project に登録されている接続情報（例：Bing 接続）を取得するためのメソッドです。エージェントで外部APIを利用する際に必要になります。\n",
    "\n",
    "- `BingGroundingTool`：エージェントが Bing を使ってインターネット検索を実行できるようにするツールです。最新のWeb情報に基づいた回答が可能になります。\n",
    "\n",
    "- `SearchClient`：Azure Cognitive Search にアクセスするためのクライアントです。インデックスに基づいてデータ検索を行うため、RAG（検索拡張生成）構成にも活用できます。"
   ]
  },
  {
   "cell_type": "code",
   "execution_count": null,
   "id": "d8912533",
   "metadata": {},
   "outputs": [],
   "source": [
    "# Code Interpreter ツールの定義\n",
    "codeinterpreter = CodeInterpreterTool()\n",
    "\n",
    "# Azure AI Project と Search クライアントの初期化\n",
    "project_client = AIProjectClient.from_connection_string(\n",
    "    credential=DefaultAzureCredential(),\n",
    "    conn_str=os.environ[\"PROJECT_CONNECTION_STRING\"],\n",
    ")\n",
    "\n",
    "bing_connection = project_client.connections.get(\n",
    "    connection_name=BING_CONNECTION_NAME\n",
    ")  # ここに接続名を指定\n",
    "bing_conn_id = bing_connection.id\n",
    "# Initialize agent bing tool and add the connection id\n",
    "bing = BingGroundingTool(connection_id=bing_conn_id)\n",
    "\n",
    "search_client = SearchClient(\n",
    "    endpoint=AI_SEARCH_ENDPOINT,\n",
    "    index_name=INDEX_NAME,\n",
    "    credential=AzureKeyCredential(AI_SEARCH_KEY),\n",
    ")"
   ]
  },
  {
   "cell_type": "markdown",
   "id": "649ce41a",
   "metadata": {},
   "source": [
    "### Run Step のタイプと出力内容の解説\n",
    "この関数 `print_run_steps` は、エージェント実行（Run）の各ステップを詳細に出力するユーティリティです。Azure AI Agent Service において、Run の中で何が実行されたかを確認・デバッグするのに非常に有効です。\n",
    "\n",
    "- `tool_calls`：エージェントが呼び出したツールに関する情報を表示します。  \n",
    "  以下のツールタイプが含まれます：\n",
    "  - 関数（Function Tool）\n",
    "  - Bing 検索（Bing Grounding Tool）\n",
    "  - コード実行（Code Interpreter Tool）\n",
    "\n",
    "- `message_creation`：エージェントが生成したメッセージ（テキストまたは画像）を表示します。ユーザーへの応答内容が確認できます。\n",
    "\n",
    "Code Interpreter の出力\n",
    "\n",
    "- 実行された Python コードの内容が表示されます。\n",
    "- 出力が画像の場合は、ファイルとしてローカルに保存されます。\n",
    "- 出力がテキストの場合は、コンソールに直接表示されます。\n",
    "\n",
    "Bing Grounding の出力\n",
    "\n",
    "- エージェントが実行した Bing 検索のリクエスト URL を表示します。\n",
    "- どのようなクエリが実行されたかを確認するのに役立ちます。\n"
   ]
  },
  {
   "cell_type": "code",
   "execution_count": null,
   "id": "457cb5bd",
   "metadata": {},
   "outputs": [],
   "source": [
    "from pprint import pprint\n",
    "\n",
    "def print_run_steps(run_id: str, thread_id: str):\n",
    "    \"\"\"\n",
    "    Run Step の詳細を表示する関数\n",
    "    :param run_id: Run ID\n",
    "    :rtype run_id: str\n",
    "    :param thread: Thread ID\n",
    "    :rtype run_id: str\n",
    "    \"\"\"\n",
    "    ren_step_list = project_client.agents.list_run_steps(thread_id=thread_id, run_id=run_id)\n",
    "    run_steps = reversed(ren_step_list[\"data\"])\n",
    "\n",
    "    for idx, step in enumerate(run_steps, start=1):\n",
    "        print(f\"\\n=== Run Step {idx} ===\")\n",
    "        print(f\"Type: {step['type']}\")\n",
    "        step_details = step[\"step_details\"]\n",
    "        step_type = step_details.get(\"type\")\n",
    "        print(\"Details:\")\n",
    "        if step_type == \"tool_calls\":\n",
    "            for call in step_details.get(\"tool_calls\", []):\n",
    "                call_type = call.get(\"type\")\n",
    "                if call_type == \"function\":\n",
    "                    function = call.get(\"function\", {})\n",
    "                    print(f\"- Function Name: {function.get('name')}\")\n",
    "                    print(f\"- Arguments: {function.get('arguments')}\")\n",
    "                elif call_type == \"bing_grounding\":\n",
    "                    bing = call.get(\"bing_grounding\", {})\n",
    "                    print(f\"- Bing Request URL: {bing.get('requesturl')}\")\n",
    "                elif call_type == \"code_interpreter\":\n",
    "                    code = call.get(\"code_interpreter\", {})\n",
    "                    print(f\"---- Generated code ---- :\\n {code.get('input')}\")\n",
    "                    outputs = code.get(\"outputs\", [])\n",
    "                    for output in outputs:\n",
    "                        if output.get(\"type\") == \"image\":\n",
    "                            file_id = output.get(\"image\", {}).get(\"file_id\")\n",
    "                            print(f\"- Generated file (image): {file_id}\")\n",
    "                            project_client.agents.save_file(file_id=file_id, target_dir=\"../sampledata\", file_name=\"code-interpreter.png\")\n",
    "                            break\n",
    "                        elif output.get(\"type\") == \"text\":\n",
    "                            print(f\"- Output text: {output.get('text')}\")\n",
    "        elif step_type == \"message_creation\":\n",
    "            message_id = step_details.get(\"message_creation\").get(\"message_id\")\n",
    "            message = project_client.agents.get_message(thread_id=thread_id, message_id=message_id)\n",
    "            if message.content[0].type == \"text\":\n",
    "                print(message.content[0].text.value)\n",
    "            elif message.content[0].type == \"image\":\n",
    "                print(\"image generated\") \n",
    "        else:\n",
    "            pprint(step_details, indent=4, width=120)\n"
   ]
  },
  {
   "cell_type": "markdown",
   "id": "9cd07463",
   "metadata": {},
   "source": [
    "## Azure AI Search を検索するカスタム関数の定義"
   ]
  },
  {
   "cell_type": "markdown",
   "id": "8fee0c60",
   "metadata": {},
   "source": [
    "### テキスト整形関数の定義\n",
    "\n",
    "改行や特定の文字を置換して、整形済みのテキストを返すシンプルなユーティリティ関数です。\n",
    "\n",
    "**テキスト整形の処理内容**\n",
    "\n",
    "- 改行コードの除去：  `\\n` や `\\r` をスペース（`\" \"`）に置き換え、1行の読みやすいテキストに整形します。\n",
    "\n",
    "- 角カッコの変換  ：  `\"[\"` → `\"【\"`、 `\"]\"` → `\"】\"` に置き換え、日本語に適した強調表現にします。"
   ]
  },
  {
   "cell_type": "code",
   "execution_count": null,
   "id": "c0b853e4",
   "metadata": {},
   "outputs": [],
   "source": [
    "# テキスト整形関数の定義\n",
    "def nonewlines(s: str) -> str:\n",
    "    return s.replace(\"\\n\", \" \").replace(\"\\r\", \" \").replace(\"[\", \"【\").replace(\"]\", \"】\")"
   ]
  },
  {
   "cell_type": "markdown",
   "id": "fece1e99",
   "metadata": {},
   "source": [
    "### 保険商品検索関数 `product_search` の定義\n",
    "\n",
    "この関数は、ユーザーのクエリに基づいて Azure AI Search を使用し、保険商品の情報を検索・取得するためのものです。\n",
    "\n",
    "**処理の流れ**\n",
    "\n",
    "- `search_client.search()`： Azure Cognitive Search に対して、セマンティック検索でクエリを実行します。\n",
    " \n",
    "\n",
    "- `nonewlines(doc[\"chunk\"])`：各検索結果のテキスト（chunk）から改行や特殊文字を整形します。複数行のテキストを 1 行にし、日本語の表記ルールに合わせて角カッコも変換します。\n",
    "\n",
    "- `json.dumps({\"context\": context})`：整形済みの検索結果を JSON 形式にまとめて返却します。\n",
    "\n",
    "**`semantic_configuration_name` について**\n",
    "\n",
    "- `semantic_configuration_name=\"insurance-product-info-semantic-configuration\"` は、Azure Search インデックスに事前に定義されたセマンティック構成の名前です。\n",
    "- 利用している Azure Cognitive Search インスタンスで定義されていない場合、エラーになります。\n",
    "- 必ず 自身の環境に合わせた構成名に置き換えてください。\n"
   ]
  },
  {
   "cell_type": "code",
   "execution_count": null,
   "id": "70759422",
   "metadata": {},
   "outputs": [],
   "source": [
    "# semantic_configuration_name は適宜いれてください\n",
    "def product_search(query: str) -> str:\n",
    "    \"\"\"\n",
    "    保険の商品に関する質問に関して、Azure AI Search の検索結果を返します。\n",
    "    :param query (str): 保険の商品を検索する際のクエリ\n",
    "    :rtype: str\n",
    "\n",
    "    :return: JSON 文字列の検索結果の情報\n",
    "    :rtype: str\n",
    "    \"\"\"\n",
    "\n",
    "    results = search_client.search(\n",
    "        search_text=query,\n",
    "        query_type=\"semantic\", \n",
    "        semantic_configuration_name=f\"{INDEX_NAME}-semantic-configuration\",  # セマンティック検索用の構成名（環境に合わせて変更\n",
    "        top=3, \n",
    "    )\n",
    "\n",
    "    context = [nonewlines(doc[\"chunk\"]) for doc in results]\n",
    "    context_json = json.dumps({\"context\": context})\n",
    "    # print(context_json)\n",
    "    return context_json"
   ]
  },
  {
   "cell_type": "markdown",
   "id": "abaad704",
   "metadata": {},
   "source": [
    "## エージェントの作成\n",
    "Azure AI Agent Service を用いて、保険商品検索に対応する AI エージェントを作成します。\n",
    "Bing 検索や Code Interpreter と連携し、マルチツールな応答が可能な構成です。"
   ]
  },
  {
   "cell_type": "markdown",
   "id": "e8c1cd7f",
   "metadata": {},
   "source": [
    "**Toolset の作成と関数の登録**\n",
    "\n",
    "- `FunctionTool`  ：`product_search` 関数を AI に組み込むためのラッパーです。関数をエージェントで呼び出せるようにします。\n",
    "\n",
    "- `ToolSet`  ：複数のツール（FunctionTool、CodeInterpreterTool、BingGroundingTool など）をまとめて管理するコンテナです。エージェントに渡す機能のセットを構成します。\n",
    "\n",
    "- `.add(...)`  ：`ToolSet` に個別のツールを追加するメソッドです。検索関数、コード実行、Bing検索といったツールを登録します。\n",
    "\n",
    "\n",
    "**エージェント作成時のパラメータ解説**\n",
    "\n",
    "- `model=\"gpt-4o\"` ：使用するモデルは GPT-4o（高速・マルチモーダル対応）。高性能な応答を実現できます。\n",
    "\n",
    "- `name` ：このエージェントの識別名を指定します（例：\"Product Search Agent\"）。用途に応じたわかりやすい名前を推奨します。\n",
    "\n",
    "- `instructions` ：エージェントが従うべき行動方針を記述します。以下の点を含めることができます：\n",
    "  - 保険商品の検索、Bing検索、コード実行の役割を明記\n",
    "  - 日本語での対話に対応することを指定\n",
    "  - 不要な改行や情報追加を禁止して、応答の一貫性を保つルールを設定\n",
    "\n",
    "- `toolset=toolset` ：作成した `ToolSet` をこのエージェントに割り当てます。これにより、エージェントは複数の機能を利用できるようになります。\n",
    "\n",
    "- `headers={\"x-ms-enable-preview\": \"true\"}` ：プレビュー機能（例：特定モデルや機能）を有効化するための設定です。必要に応じて追加します。\n",
    "\n"
   ]
  },
  {
   "cell_type": "code",
   "execution_count": null,
   "id": "0e3da728",
   "metadata": {},
   "outputs": [],
   "source": [
    "# Toolset の作成＆関数の追加\n",
    "user_functions: Set[Callable[..., Any]] = {product_search}\n",
    "\n",
    "functions = FunctionTool(user_functions)\n",
    "toolset = ToolSet()\n",
    "toolset.add(functions)\n",
    "toolset.add(codeinterpreter)\n",
    "toolset.add(bing)\n",
    "\n",
    "# Agent の作成\n",
    "agent = project_client.agents.create_agent(\n",
    "    model=\"gpt-4o\",\n",
    "    name=\"Product Search Agent\",\n",
    "    instructions=\"\"\"\n",
    "あなたは、丁寧なアシスタントです。あなたは以下の業務を遂行します。\n",
    "- 保険の商品について検索して回答します\n",
    "- Bing 検索でインターネットの情報を検索して回答します\n",
    "- Code Interpreter でコードの生成および実行を行います\n",
    "\n",
    "# 回答時のルール\n",
    "- 関数を呼び出した場合、回答の最後に改行をいれたうえで Called Function : \"関数名\" と表記してください\n",
    "\n",
    "# 制約事項\n",
    "- ユーザーからのメッセージは日本語で入力されます\n",
    "- ユーザーからのメッセージから忠実に情報を抽出し、それに基づいて応答を生成します。\n",
    "- ユーザーからのメッセージに勝手に情報を追加したり、不要な改行文字 \\n を追加してはいけません\n",
    "\n",
    "\"\"\",\n",
    "    toolset=toolset,\n",
    "    headers={\"x-ms-enable-preview\": \"true\"},\n",
    ")\n",
    "print(f\"agent を新規作成しました。AGENT_ID: {agent.id}\")"
   ]
  },
  {
   "cell_type": "markdown",
   "id": "efae0c79",
   "metadata": {},
   "source": [
    "※なお、関数内に doc string 形式で入力した内容は agent の定義として discription パラメータに自動で抽出されます。自然言語で指定できる点は便利ですし、ツールの説明を簡潔にわかりやすく表現するプロンプトエンジニアリングが重要となります。"
   ]
  },
  {
   "cell_type": "code",
   "execution_count": null,
   "id": "fb07de48",
   "metadata": {},
   "outputs": [],
   "source": [
    "[\n",
    "    print(json.dumps(tool.as_dict(), indent=4, ensure_ascii=False))\n",
    "    for tool in agent.tools\n",
    "    if tool.type == \"function\"\n",
    "]"
   ]
  },
  {
   "cell_type": "markdown",
   "id": "b0aa52f7",
   "metadata": {},
   "source": [
    "### 確認用：CodeInterpreter & Bing Search の動作テスト\n"
   ]
  },
  {
   "cell_type": "code",
   "execution_count": null,
   "id": "fbdd16f2",
   "metadata": {},
   "outputs": [],
   "source": [
    "# スレッド作成\n",
    "thread = project_client.agents.create_thread()"
   ]
  },
  {
   "cell_type": "code",
   "execution_count": null,
   "id": "d379fd90",
   "metadata": {},
   "outputs": [],
   "source": [
    "# Code Interpreter テスト\n",
    "# ファイルが生成された場合、sampledata/code-interpreter.png として保存されます。code-interpreter-sample.png はサンプルの出力結果です。\n",
    "# 今回の保険業界シナリオとは全く関係ないプロンプトですが、ファイルアップロードと組みあわせて実行することも可能です。\n",
    "code_msg = project_client.agents.create_message(\n",
    "    thread_id=thread.id,\n",
    "    role=\"user\",\n",
    "    content=\"関数 f(x) = (x**3 * exp(-x**2)) / (1 + x**2) を定義し、描画してください\",  \n",
    ")\n",
    "code_run = project_client.agents.create_and_process_run(\n",
    "    thread_id=thread.id, agent_id=agent.id\n",
    ")\n",
    "\n",
    "print_run_steps(run_id=code_run.id, thread_id=thread.id)"
   ]
  },
  {
   "cell_type": "code",
   "execution_count": null,
   "id": "f2a69271",
   "metadata": {},
   "outputs": [],
   "source": [
    "# Bing Search テスト\n",
    "bing_msg = project_client.agents.create_message(\n",
    "    thread_id=thread.id,\n",
    "    role=\"user\",\n",
    "    content=\"2025年の生命保険業界のトレンドをネットで検索して教えてください。\", \n",
    ")\n",
    "bing_run = project_client.agents.create_and_process_run(\n",
    "    thread_id=thread.id, agent_id=agent.id\n",
    ")\n",
    "\n",
    "print_run_steps(run_id=bing_run.id, thread_id=thread.id)"
   ]
  },
  {
   "cell_type": "markdown",
   "id": "8bce6905",
   "metadata": {},
   "source": [
    "### スレッドの作成・実行・削除\n",
    "Azure AI Agent Service を用いた実行の一連の流れを示します。\n",
    "\n",
    "**スレッド作成とメッセージ送信**\n",
    "\n",
    "- `create_message()`：指定したスレッドに対して、ユーザーの入力メッセージ（プロンプト）を送信します。\n",
    "\n",
    "- `role=\"user\"`：ユーザーからの入力であることを明示します。  これにより、エージェントが人間の発言として処理します。\n",
    "\n",
    "- `content` ：実際の問い合わせ内容を指定します。 例：`\"安心保障プランの詳細を教えて\"` のような自然な言語による質問。\n",
    "\n",
    "**クリーンアップ関数**\n",
    "\n",
    "- `delete_thread()`：スレッド（＝エージェントとの対話履歴）を削除します。複数回のやりとりが記録されたスレッド全体をクリーンに削除したいときに使用します。\n",
    "\n",
    "- `delete_agent()`：作成したエージェント自体を削除します。不要なリソースを Azure 上に残さないために、実験・検証後にはこの処理を行うことが推奨されます。"
   ]
  },
  {
   "cell_type": "code",
   "execution_count": null,
   "id": "5ea987cf",
   "metadata": {},
   "outputs": [],
   "source": [
    "# スレッド作成とメッセージ送信\n",
    "# user_message = input(\"タスクを入力してください：\")\n",
    "message = project_client.agents.create_message(\n",
    "    thread_id=thread.id,\n",
    "    role=\"user\",\n",
    "    content=\"安心保障プランの詳細を教えて\",\n",
    ")\n",
    "\n",
    "# メッセージの送信\n",
    "run = project_client.agents.create_and_process_run(\n",
    "    thread_id=thread.id, agent_id=agent.id\n",
    ")\n",
    "print_run_steps(run_id=run.id, thread_id=thread.id)"
   ]
  },
  {
   "cell_type": "code",
   "execution_count": null,
   "id": "0e6ae43b",
   "metadata": {},
   "outputs": [],
   "source": [
    "# スレッドとエージェントの削除\n",
    "project_client.agents.delete_thread(thread_id=thread.id)\n",
    "project_client.agents.delete_agent(agent_id=agent.id)\n",
    "print(\"Agent と Thread を削除しました。\")"
   ]
  }
 ],
 "metadata": {
  "kernelspec": {
   "display_name": ".venv",
   "language": "python",
   "name": "python3"
  },
  "language_info": {
   "codemirror_mode": {
    "name": "ipython",
    "version": 3
   },
   "file_extension": ".py",
   "mimetype": "text/x-python",
   "name": "python",
   "nbconvert_exporter": "python",
   "pygments_lexer": "ipython3",
   "version": "3.11.9"
  }
 },
 "nbformat": 4,
 "nbformat_minor": 5
}
