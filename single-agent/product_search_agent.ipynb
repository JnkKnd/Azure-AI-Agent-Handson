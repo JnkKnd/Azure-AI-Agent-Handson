{
 "cells": [
  {
   "cell_type": "markdown",
   "id": "13c02717",
   "metadata": {},
   "source": [
    "### 事前準備"
   ]
  },
  {
   "cell_type": "code",
   "execution_count": null,
   "id": "d34cac7b",
   "metadata": {},
   "outputs": [],
   "source": [
    "import json\n",
    "import os\n",
    "import datetime\n",
    "from dotenv import load_dotenv\n",
    "from typing import Any, Callable, Set\n",
    "from azure.identity import DefaultAzureCredential\n",
    "from azure.core.credentials import AzureKeyCredential\n",
    "from azure.ai.projects import AIProjectClient\n",
    "from azure.search.documents import SearchClient\n",
    "from azure.ai.projects.models import FunctionTool, ToolSet, BingGroundingTool, MessageTextContent, CodeInterpreterTool\n",
    "from azure.ai.projects import AIProjectClient"
   ]
  },
  {
   "cell_type": "code",
   "execution_count": null,
   "id": "f1bcf910",
   "metadata": {},
   "outputs": [],
   "source": [
    "# 環境変数と接続設定の読み込み\n",
    "load_dotenv()\n",
    "AI_SEARCH_ENDPOINT = os.getenv(\"AI_SEARCH_ENDPOINT\")\n",
    "INDEX_NAME = os.getenv(\"INDEX_NAME\")\n",
    "AI_SEARCH_KEY = os.getenv(\"AI_SEARCH_KEY\")\n",
    "\n",
    "PROJECT_CONNECTION_STRING = os.getenv(\"PROJECT_CONNECTION_STRING\")\n",
    "BING_CONNECTION_NAME = os.getenv(\"BING_CONNECTION_NAME\")\n",
    "\n"
   ]
  },
  {
   "cell_type": "code",
   "execution_count": null,
   "id": "d8912533",
   "metadata": {},
   "outputs": [],
   "source": [
    "# Code Interpreter ツールの定義\n",
    "codeinterpreter = CodeInterpreterTool()\n",
    "\n",
    "# Azure AI Project と Search クライアントの初期化\n",
    "project_client = AIProjectClient.from_connection_string(\n",
    "    credential=DefaultAzureCredential(),\n",
    "    conn_str=os.environ[\"PROJECT_CONNECTION_STRING\"],\n",
    ")\n",
    "\n",

    "bing_connection = project_client.connections.get(\n",
    "    connection_name=BING_CONNECTION_NAME\n",
    ")  # ここに接続名を指定\n",
    "bing_conn_id = bing_connection.id\n",
    "# Initialize agent bing tool and add the connection id\n",
    "bing = BingGroundingTool(connection_id=bing_conn_id)\n",
    "\n",
    "search_client = SearchClient(\n",
    "    endpoint=AI_SEARCH_ENDPOINT,\n",
    "    index_name=INDEX_NAME,\n",
    "    credential=AzureKeyCredential(AI_SEARCH_KEY),\n",
    ")"
   ]
  },
  {
   "cell_type": "code",
   "execution_count": null,
   "id": "457cb5bd",
   "metadata": {},
   "outputs": [],
   "source": [
    "from pprint import pprint\n",
    "# ユーティリティ関数の定義\n",
    "def print_run_steps(run_id: str, thread_id: str):\n",
    "    \"\"\"\n",
    "    Run Step の詳細を表示する関数\n",
    "\n",
    "    :param run_id: Run ID\n",
    "    :rtype run_id: str\n",
    "    :param thread: Thread ID\n",
    "    :rtype run_id: str\n",
    "    \"\"\"\n",
    "    ren_step_list = project_client.agents.list_run_steps(\n",
    "        thread_id=thread_id, run_id=run_id\n",
    "    )\n",
    "\n",
    "    run_steps = reversed(ren_step_list[\"data\"])\n",
    "\n",
    "    for idx, step in enumerate(run_steps, start=1):\n",
    "        print(f\"\\n=== Run Step {idx} ===\")\n",
    "        print(f\"Type: {step['type']}\")\n",
    "\n",
    "        step_details = step[\"step_details\"]\n",
    "        step_type = step_details.get(\"type\")\n",
    "\n",
    "        print(\"Details:\")\n",
    "        if step_type == \"tool_calls\":\n",
    "            for call in step_details.get(\"tool_calls\", []):\n",
    "                call_type = call.get(\"type\")\n",
    "                if call_type == \"function\":\n",
    "                    function = call.get(\"function\", {})\n",
    "                    print(f\"- Function Name: {function.get('name')}\")\n",
    "                    print(f\"- Arguments: {function.get('arguments')}\")\n",
    "                elif call_type == \"bing_grounding\":\n",
    "                    bing = call.get(\"bing_grounding\", {})\n",
    "                    print(f\"- Bing Request URL: {bing.get('requesturl')}\")\n",
    "        elif step_type == \"message_creation\":\n",
    "            message_id = step_details.get(\"message_creation\").get(\"message_id\")\n",
    "            message = project_client.agents.get_message(\n",
    "                thread_id=thread_id, message_id=message_id\n",
    "            )\n",
    "            print(message.content[0].text.value)\n",
    "        else:\n",
    "            pprint(step_details, indent=4, width=120)"
   ]
  },
  {
   "cell_type": "markdown",
   "id": "9cd07463",
   "metadata": {},
   "source": [
    "### Azure AI Search を検索するカスタム関数の定義"
   ]
  },
  {
   "cell_type": "code",
   "execution_count": null,
   "id": "c0b853e4",
   "metadata": {},
   "outputs": [],
   "source": [
    "# テキスト整形関数の定義\n",
    "def nonewlines(s: str) -> str:\n",
    "    return s.replace(\"\\n\", \" \").replace(\"\\r\", \" \").replace(\"[\", \"【\").replace(\"]\", \"】\")"
   ]
  },
  {
   "cell_type": "code",
   "execution_count": null,
   "id": "70759422",
   "metadata": {},
   "outputs": [],
   "source": [
    "# semantic_configuration_name は適宜いれてください\n",
    "def product_search(query: str) -> str:\n",
    "    \"\"\"\n",
    "    保険の商品に関する質問に関して、Azure AI Search の検索結果を返します。\n",
    "    :param query (str): 保険の商品を検索する際のクエリ\n",
    "    :rtype: str\n",
    "\n",
    "    :return: JSON 文字列の検索結果の情報\n",
    "    :rtype: str\n",
    "    \"\"\"\n",
    "\n",
    "    results = search_client.search(\n",
    "        search_text=query,\n",
    "        query_type=\"semantic\", \n",
    "        semantic_configuration_name=\"insurance-product-info-semantic-configuration\",  # セマンティック検索用の構成名（環境に合わせて変更\n",
    "        top=3, \n",
    "    )\n",
    "\n",
    "    context = [nonewlines(doc[\"chunk\"]) for doc in results]\n",
    "    context_json = json.dumps({\"context\": context})\n",
    "    # print(context_json)\n",
    "    return context_json"
   ]
  },
  {
   "cell_type": "markdown",
   "id": "abaad704",
   "metadata": {},
   "source": [
    "### エージェントの作成"
   ]
  },
  {
   "cell_type": "code",
   "execution_count": null,
   "id": "0e3da728",
   "metadata": {},
   "outputs": [],
   "source": [
    "# Toolset の作成＆関数の追加\n",
    "user_functions: Set[Callable[..., Any]] = {product_search}\n",
    "\n",
    "functions = FunctionTool(user_functions)\n",
    "toolset = ToolSet()\n",
    "toolset.add(functions)\n",
    "toolset.add(codeinterpreter)\n",
    "toolset.add(bing)\n",
    "\n",
    "# Agent の作成\n",
    "agent = project_client.agents.create_agent(\n",
    "    model=\"gpt-4o\",\n",
    "    name=\"Product Search Agent\",\n",
    "    instructions=\"\"\"\n",
    "あなたは、丁寧なアシスタントです。あなたは以下の業務を遂行します。\n",
    "- 保険の商品について検索して回答します\n",
    "- Bing 検索でインターネットの情報を検索して回答します\n",
    "- Code Interpreter でコードの生成および実行を行います\n",
    "\n",
    "# 回答時のルール\n",
    "- 関数を呼び出した場合、回答の最後に改行をいれたうえで Called Function : \"関数名\" と表記してください\n",
    "\n",
    "# 制約事項\n",
    "- ユーザーからのメッセージは日本語で入力されます\n",
    "- ユーザーからのメッセージから忠実に情報を抽出し、それに基づいて応答を生成します。\n",
    "- ユーザーからのメッセージに勝手に情報を追加したり、不要な改行文字 \\n を追加してはいけません\n",
    "\n",
    "\"\"\",\n",
    "    toolset=toolset,\n",
    "    headers={\"x-ms-enable-preview\": \"true\"},\n",
    ")\n",
    "print(f\"agent を新規作成しました。AGENT_ID: {agent.id}\")"
   ]
  },
  {
   "cell_type": "markdown",
   "id": "b0aa52f7",
   "metadata": {},
   "source": [
    "### 確認用：CodeInterpreter & Bing Search の動作テスト\n"
   ]
  },
  {
   "cell_type": "code",
   "execution_count": null,
   "id": "fbdd16f2",
   "metadata": {},
   "outputs": [],
   "source": [
    "# スレッド作成\n",
    "thread = project_client.agents.create_thread()"
   ]
  },
  {
   "cell_type": "code",
   "execution_count": null,
   "id": "d379fd90",
   "metadata": {},
   "outputs": [],
   "source": [
    "# Code Interpreter テスト\n",
    "code_msg = project_client.agents.create_message(\n",
    "    thread_id=thread.id,\n",
    "    role=\"user\",\n",
    "    content=\"sin関数を matplotlib で描画するためのコードを教えて\",  # 任意の質問\n",
    ")\n",
    "code_run = project_client.agents.create_and_process_run(\n",
    "    thread_id=thread.id, agent_id=agent.id\n",
    ")\n",
    "\n",
    "\n",
    "run_steps = project_client.agents.list_run_steps(\n",
    "    run_id=code_run.id, thread_id=thread.id\n",
    ")\n",
    "run_steps_data = run_steps[\"data\"]\n",
    "print(f\"Last run step detail: {run_steps_data}\")\n",
    "\n",
    "print_run_steps(run_id=code_run.id, thread_id=thread.id)"
   ]
  },
  {
   "cell_type": "code",
   "execution_count": null,
   "id": "f2a69271",
   "metadata": {},
   "outputs": [],
   "source": [
    "# Bing Search テスト\n",
    "bing_msg = project_client.agents.create_message(\n",
    "    thread_id=thread.id,\n",
    "    role=\"user\",\n",
    "    content=\"2025年の生命保険業界のトレンドをネットで検索して教えてください。\",  # 任意の質問\n",
    ")\n",
    "bing_run = project_client.agents.create_and_process_run(\n",
    "    thread_id=thread.id, agent_id=agent.id\n",
    ")\n",
    "\n",
    "print_run_steps(run_id=bing_run.id, thread_id=thread.id)"
   ]
  },
  {
   "cell_type": "markdown",
   "id": "8bce6905",
   "metadata": {},
   "source": [
    "### スレッドの作成・実行・削除"
   ]
  },
  {
   "cell_type": "code",
   "execution_count": null,
   "id": "5ea987cf",
   "metadata": {},
   "outputs": [],
   "source": [
    "# スレッド作成とメッセージ送信\n",
    "user_message = input(\"タスクを入力してください：\")\n",
    "\n",
    "message = project_client.agents.create_message(\n",
    "    thread_id=thread.id,\n",
    "    role=\"user\",\n",
    "    content=user_message,\n",
    ")\n",
    "\n",
    "# メッセージの送信\n",
    "run = project_client.agents.create_and_process_run(\n",
    "    thread_id=thread.id, agent_id=agent.id\n",
    ")\n",
    "# 最新のテキストレスポンスを取得\n",
    "messages = project_client.agents.list_messages(thread_id=thread.id)\n",
    "print_run_steps(run_id=run.id, thread_id=thread.id)"
   ]
  },
  {
   "cell_type": "code",
   "execution_count": null,
   "id": "0e6ae43b",
   "metadata": {},
   "outputs": [],
   "source": [
    "# スレッドとエージェントの削除\n",
    "project_client.agents.delete_thread(thread_id=thread.id)\n",
    "project_client.agents.delete_agent(agent_id=agent.id)\n",
    "print(\"Agent と Thread を削除しました。\")"
   ]
  }
 ],
 "metadata": {
  "kernelspec": {
   "display_name": ".venv",
   "language": "python",
   "name": "python3"
  },
  "language_info": {
   "codemirror_mode": {
    "name": "ipython",
    "version": 3
   },
   "file_extension": ".py",
   "mimetype": "text/x-python",
   "name": "python",
   "nbconvert_exporter": "python",
   "pygments_lexer": "ipython3",
   "version": "3.11.9"
  }
 },
 "nbformat": 4,
 "nbformat_minor": 5
}
