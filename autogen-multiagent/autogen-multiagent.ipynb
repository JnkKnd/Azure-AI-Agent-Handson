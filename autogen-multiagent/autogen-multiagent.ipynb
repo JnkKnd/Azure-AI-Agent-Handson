{
 "cells": [
  {
   "cell_type": "markdown",
   "id": "8a4f9da0",
   "metadata": {},
   "source": [
    "# AutoGen によるマルチエージェント実装\n"
   ]
  },
  {
   "cell_type": "markdown",
   "id": "5e0d947d",
   "metadata": {},
   "source": [
    "### 必要なモジュールのインポート"
   ]
  },
  {
   "cell_type": "code",
   "execution_count": null,
   "id": "a94fe063",
   "metadata": {},
   "outputs": [],
   "source": [
    "import json\n",
    "import os\n",
    "import requests\n",
    "from dotenv import load_dotenv\n",
    "from autogen_agentchat.teams import SelectorGroupChat\n",
    "from autogen_ext.models.openai import AzureOpenAIChatCompletionClient\n",
    "from autogen_agentchat.conditions import (\n",
    "    TextMentionTermination,\n",
    "    MaxMessageTermination,\n",
    "    ExternalTermination,\n",
    ")\n",
    "from autogen_agentchat.agents import AssistantAgent\n",
    "from autogen_core.models import ChatCompletionClient\n",
    "from autogen_agentchat.messages import (\n",
    "    TextMessage,\n",
    "    ToolCallExecutionEvent,\n",
    "    ToolCallRequestEvent,\n",
    ")\n",
    "from azure.core.credentials import AzureKeyCredential\n",
    "from azure.search.documents import SearchClient"
   ]
  },
  {
   "cell_type": "markdown",
   "id": "bfd7d173",
   "metadata": {},
   "source": [
    "### 環境変数の読み込み"
   ]
  },
  {
   "cell_type": "code",
   "execution_count": null,
   "id": "c9258dcd",
   "metadata": {},
   "outputs": [],
   "source": [
    "load_dotenv()\n",
    "AI_SEARCH_ENDPOINT = os.getenv(\"AI_SEARCH_ENDPOINT\")\n",
    "INDEX_NAME = os.getenv(\"INDEX_NAME\")\n",
    "AI_SEARCH_KEY = os.getenv(\"AI_SEARCH_KEY\")\n",
    "AZURE_OPENAI_KEY = os.getenv(\"AZURE_OPENAI_KEY\")\n",
    "AZURE_OPENAI_ENDPOINT = os.getenv(\"AZURE_OPENAI_ENDPOINT\")\n",
    "DEPLOYMENT_NAME = os.getenv(\"DEPLOYMENT_NAME\")\n",
    "EMBEDDING_MODEL = os.getenv(\"EMBEDDING_MODEL\")\n",
    "AI_SEARCH_CRED = os.getenv(\"AI_SEARCH_CRED\")\n",
    "LOGIC_APPS = os.getenv(\"LOGIC_APPS\")"
   ]
  },
  {
   "cell_type": "markdown",
   "id": "ed5e3b40",
   "metadata": {},
   "source": [
    "## product_search_agent の作成 (保険商品案内エージェント)"
   ]
  },
  {
   "cell_type": "markdown",
   "id": "fb19a44f",
   "metadata": {},
   "source": [
    "まず、Azure AI Search のクライアントを定義します。"
   ]
  },
  {
   "cell_type": "code",
   "execution_count": null,
   "id": "9dc9b174",
   "metadata": {},
   "outputs": [],
   "source": [
    "search_client = SearchClient(\n",
    "    endpoint=AI_SEARCH_ENDPOINT,\n",
    "    index_name=INDEX_NAME,\n",
    "    credential=AzureKeyCredential(AI_SEARCH_KEY),\n",
    ")"
   ]
  },
  {
   "cell_type": "markdown",
   "id": "7208ec18",
   "metadata": {},
   "source": [
    "演習1のシングルエージェント実装の際に用いた関数を定義します。\\\n",
    "nonewlines 関数は整形のための関数なので、ツールには含めません。\\\n",
    "Azure AI Search のインデックスを検索する product_search 関数を定義します。"
   ]
  },
  {
   "cell_type": "code",
   "execution_count": null,
   "id": "e0133cbf",
   "metadata": {},
   "outputs": [],
   "source": [
    "def nonewlines(s: str) -> str:\n",
    "    return s.replace(\"\\n\", \" \").replace(\"\\r\", \" \").replace(\"[\", \"【\").replace(\"]\", \"】\")\n",
    "\n",
    "\n",
    "# Azure AI Search による検索\n",
    "def product_search(query: str) -> str:\n",
    "    \"\"\"\n",
    "    保険の商品に関する質問に関して、Azure AI Search の検索結果を返します。\n",
    "\n",
    "    :param query (str): 保険の商品を検索する際のクエリ\n",
    "    :rtype: str\n",
    "\n",
    "    :return: JSON 文字列の検索結果の情報\n",
    "    :rtype: str\n",
    "    \"\"\"\n",
    "\n",
    "    results = search_client.search(\n",
    "        search_text=query,\n",
    "        query_type=\"semantic\",  # セマンティック検索を有効化\n",
    "        semantic_configuration_name=f\"{INDEX_NAME}-semantic-configuration\",  # セマンティック検索用の構成名（環境に合わせて変更\n",
    "        top=3,  # 上位5件を取得（必要に応じて変更）\n",
    "    )\n",
    "    context = [nonewlines(doc[\"chunk\"]) for doc in results]\n",
    "    context_json = json.dumps({\"context\": context})\n",
    "    print(context_json)\n",
    "    return context_json"
   ]
  },
  {
   "cell_type": "markdown",
   "id": "41dd5ff3",
   "metadata": {},
   "source": [
    "product_search_agent に登録するツールを `tools_product` として登録します。\\\n",
    "演習1で確認した Grounding with Bing Search および Code Interpreter 使用しません。\n",
    "今回はツールとしては登録しているのは1つのみですが、この記述に倣ってツールを増やすことが可能です。"
   ]
  },
  {
   "cell_type": "code",
   "execution_count": null,
   "id": "108e3034",
   "metadata": {},
   "outputs": [],
   "source": [
    "tools_product = [product_search]"
   ]
  },
  {
   "cell_type": "markdown",
   "id": "963b5e91",
   "metadata": {},
   "source": [
    "[演習3-0](../handson-textbook/ex3.md#演習-3-0-autogen-について) の項目で確認した通り、今回は各エージェントを下記のようなモデルクライアントを引数とした関数でインスタンス化し、呼び出せるようにしています。\n",
    "\n",
    "```python\n",
    "def agent_name(model_client: ChatCompletionClient) -> AssistantAgent:\n",
    "    agent = AssistantAgent(\n",
    "        name=\"agent_name\",\n",
    "        description=\"エージェントの役割や呼び出せるツールを自然言語で明記します\",\n",
    "        model_client=model_client,\n",
    "        tools = tools, # エージェントが呼び出せるツール\n",
    "        system_message=\"\"\"システムメッセージや指示をここで定義します\"\"\",\n",
    "    )\n",
    "    return agent\n",
    "```\n",
    "\n",
    "従って product_search_agent は次のように定義します。"
   ]
  },
  {
   "cell_type": "code",
   "execution_count": null,
   "id": "bf426496",
   "metadata": {},
   "outputs": [],
   "source": [
    "\n",
    "def product_search_agent(model_client: ChatCompletionClient) -> AssistantAgent:\n",
    "    agent = AssistantAgent(\n",
    "        name=\"ProductSearchAgent\",\n",
    "        description=\"顧客のデータを確認し、保険の契約状況と担当者を確認するエージェント。さらにユーザーからリクエストがあったばあい、ユーザーの担当者に連絡をする。\",\n",
    "        model_client=model_client,\n",
    "        tools=tools_product,\n",
    "        system_message=\"\"\"json形式でかえしてください\"\"\",\n",
    "    )\n",
    "    return agent"
   ]
  },
  {
   "cell_type": "markdown",
   "id": "170ca720",
   "metadata": {},
   "source": [
    "## contract_lookup_agent の作成 (契約管理エージェント)"
   ]
  },
  {
   "cell_type": "markdown",
   "id": "8d1cf016",
   "metadata": {},
   "source": [
    "product_search_agent と同様に、演習2で作成した契約管理エージェントをベースにします。\\\n",
    "ユーザーデータを検索する contract_lookup 関数を定義します。"
   ]
  },
  {
   "cell_type": "code",
   "execution_count": null,
   "id": "0a588311",
   "metadata": {},
   "outputs": [],
   "source": [
    "def contract_lookup(user_id: int) -> str:\n",
    "    # 便宜上一旦ハードコードしています\n",
    "    \"\"\"\n",
    "    ユーザーIDに基づいてユーザー情報を JSON 文字列で返す\n",
    "\n",
    "    :param user_id (int): ユーザーのID\n",
    "    :rtype: int\n",
    "\n",
    "    :return: JSON 文字列のユーザー情報.\n",
    "    :rtype: str\n",
    "    \"\"\"\n",
    "    mock_users = {\n",
    "        1234: {\n",
    "            \"name\": \"佐藤太郎\",\n",
    "            \"tel\": \"090-0000-0000\",\n",
    "            \"email\": \"sato@example.com\",\n",
    "            \"staff_email\": \"xxxxxxxx@example.com\",\n",
    "            \"plan\": \"安心保障プラン\",\n",
    "        },\n",
    "        5679: {\n",
    "            \"name\": \"鈴木花子\",\n",
    "            \"tel\": \"080-1111-1111\",\n",
    "            \"email\": \"suzuki@example.com\",\n",
    "            \"staff_email\": \"xxxxxxxx@example.com\",\n",
    "            \"plan\": \"学資サポートプラン\",\n",
    "        },\n",
    "        4321: {\n",
    "            \"name\": \"田中次郎\",\n",
    "            \"tel\": \"090-2222-2222\",\n",
    "            \"email\": \"tanaka@example.com\",\n",
    "            \"staff_email\": \"xxxxxxxx@example.com\",\n",
    "            \"plan\": \"シニアライフプラン\",\n",
    "        },\n",
    "    }\n",
    "    user_info = mock_users.get(user_id, {\"error\": \"User not found.\"})\n",
    "    return json.dumps({\"user_info\": user_info})\n",
    "\n",
    "\n"
   ]
  },
  {
   "cell_type": "markdown",
   "id": "4df3987d",
   "metadata": {},
   "source": [
    "演習2 で行ったとおり CosmosDB を検索する関数でも構いませんが、その場合は環境変数の読み込みを追記し、以下の関数にしてください。\n",
    "``` python\n",
    "URL = os.getenv(\"ACCOUNT_URI\")\n",
    "KEY = os.getenv(\"ACCOUNT_KEY\")\n",
    "\n",
    "def contract_lookup(user_id: int) -> str:\n",
    "    \"\"\"\n",
    "    ユーザーIDに基づいてユーザー情報を JSON 文字列で返します。ユーザー情報は変更しないでください。\n",
    "\n",
    "    :param user_id (int): ユーザーのID\n",
    "    :rtype: int\n",
    "\n",
    "    :return: JSON 文字列のユーザー情報.\n",
    "    :rtype: str\n",
    "    \"\"\"\n",
    "    # ユーザー情報を取得するためのクエリ\n",
    "    queryText = f'SELECT * FROM users u WHERE u.id = \"{user_id}\"'\n",
    "\n",
    "    # Cosmos DB からユーザー情報を取得\n",
    "    results = container.query_items(\n",
    "        query=queryText,\n",
    "        enable_cross_partition_query=True,\n",
    "    )\n",
    "\n",
    "    items = [item for item in results]\n",
    "    output = items[0] if items else {}\n",
    "\n",
    "    return json.dumps(output)\n",
    "\n",
    "```"
   ]
  },
  {
   "cell_type": "markdown",
   "id": "2d2fa422",
   "metadata": {},
   "source": [
    "Logic Apps を呼び出す関数も同様に定義します。"
   ]
  },
  {
   "cell_type": "code",
   "execution_count": null,
   "id": "9b74dffd",
   "metadata": {},
   "outputs": [],
   "source": [
    "def send_email(customer: str, staff_email: str, inquiry: str) -> str:\n",
    "    \"\"\"\n",
    "    お客様から担当者のメールアドレスにお問い合わせがあったことを通知\n",
    "\n",
    "    :param customer (str): お客様の名前\n",
    "    :rtype: str\n",
    "\n",
    "    :param staff_email (str) : 担当者のメールアドレス\n",
    "    :rtype: str\n",
    "\n",
    "    :param inquiry (str) : 保険に関するお問い合わせ内容\n",
    "    :rtype: str\n",
    "\n",
    "    :return: JSON 文字列のユーザー情報.\n",
    "    :rtype: str\n",
    "    \"\"\"\n",
    "    headers = {\"Content-Type\": \"application/json\"}\n",
    "    payload = {\"customer\": customer, \"inquiry\": inquiry, \"staff_email\": staff_email}\n",
    "\n",
    "    endpoint_url = LOGIC_APPS\n",
    "\n",
    "    try:\n",
    "        response = requests.post(\n",
    "            endpoint_url, headers=headers, data=json.dumps(payload)\n",
    "        )\n",
    "        response.raise_for_status()\n",
    "        status = json.dumps({\"status\": \"メールで通知が完了しました\"})\n",
    "        return status\n",
    "    except requests.exceptions.RequestException as err:\n",
    "        print(f\"エラー: {err}\")\n",
    "        return json.dumps({\"status\": \"メールで通知に失敗しました\"})"
   ]
  },
  {
   "cell_type": "markdown",
   "id": "f9104c06",
   "metadata": {},
   "source": [
    "contract_lookup_agent に渡すツールは、`tools_contract` として定義します。"
   ]
  },
  {
   "cell_type": "code",
   "execution_count": null,
   "id": "0ff52947",
   "metadata": {},
   "outputs": [],
   "source": [
    "tools_contract = [contract_lookup, send_email]"
   ]
  },
  {
   "cell_type": "markdown",
   "id": "2958b9c0",
   "metadata": {},
   "source": [
    "同様に contract_lookup_agent を作成するための関数を定義します。"
   ]
  },
  {
   "cell_type": "code",
   "execution_count": null,
   "id": "1d10a146",
   "metadata": {},
   "outputs": [],
   "source": [
    "def contract_lookup_agent(model_client: ChatCompletionClient) -> AssistantAgent:\n",
    "    agent = AssistantAgent(\n",
    "        name=\"ContractLookupAgent\",\n",
    "        description=\"顧客のデータを確認し、保険の契約状況と担当者を確認するエージェント。さらにユーザーからリクエストがあった場合、ユーザーの担当者に連絡をする。\",\n",
    "        model_client=model_client,\n",
    "        tools=tools_contract,\n",
    "        system_message=\"\"\"丁寧に返してください\"\"\",\n",
    "    )\n",
    "    return agent"
   ]
  },
  {
   "cell_type": "markdown",
   "id": "1474b64d",
   "metadata": {},
   "source": [
    "## summary_agent の作成（会話要約エージェントの作成）\n",
    "次に summary_agent を作成するための関数を定義します。このエージェントは、エージェント同士の回答を要約して、最終回答を生成するエージェントです。\n",
    "\n",
    "後述しますが、AutoGen のマルチエージェント実装では、タスクの終了条件を指定する必要があります。 [8 つの組み込みの終了条件](https://microsoft.github.io/autogen/stable/user-guide/agentchat-user-guide/tutorial/termination.html#)があり、今回はタスクが完了したと判定場合に \"TERMINATE\" という文字列を生成させることで終了判定をします。従って、summary_agent.py の要件は以下です。\n",
    "\n",
    "- 要約エージェントはマルチエージェントの会話の終了条件となる、`\"TERMINATE\"`という文字列を最後に生成させます\n",
    "- 要約エージェントでは、tool の呼び出しは行いません\n",
    "- これまでの会話履歴を要約し、最終回答としてまとめます\n"
   ]
  },
  {
   "cell_type": "code",
   "execution_count": null,
   "id": "ba7d09ef",
   "metadata": {},
   "outputs": [],
   "source": [
    "def summary_agent(model_client: ChatCompletionClient) -> AssistantAgent:\n",
    "\n",
    "    summary_agent = AssistantAgent(\n",
    "        name=\"SummaryAgent\",\n",
    "        description=\"これまでの会話履歴を要約する AI アシスタント\",\n",
    "        model_client=model_client,\n",
    "        system_message=\"\"\"\n",
    "あなたのタスクは、他の team members が収集した情報をもとに、これまでの会話履歴の要約を作成することです。\n",
    "\n",
    "## 回答ルール\n",
    "\n",
    "- ユーザーからの質問に対して、他の team member が収集した情報を使って適切な回答を作成してください。\n",
    "- 作成後、最終回答の文章の最後に \"TERMINATE\" と入力して、タスクを完了します。\n",
    "\"\"\",\n",
    "    )\n",
    "\n",
    "    return summary_agent"
   ]
  },
  {
   "cell_type": "markdown",
   "id": "4b66d31a",
   "metadata": {},
   "source": [
    "## planner_agent の作成（計画を立てるエージェント）\n",
    "ここまでで、契約DBを検索するエージェント、商品データを検索するエージェント、要約エージェントができました。\\\n",
    "最後に、ユーザーからの入力に対して、タスクを完了するために必要な計画を立てる planner_agent を作成します。\\\n",
    "ここでは特に、システムプロンプトが重要になります。どんなエージェントが、それぞれどのような役割で、何ができるエージェントなのかを記述します。"
   ]
  },
  {
   "cell_type": "code",
   "execution_count": null,
   "id": "0e3f8cba",
   "metadata": {},
   "outputs": [],
   "source": [
    "def planner_agent(model_client) -> AssistantAgent:\n",
    "    agent = AssistantAgent(\n",
    "        name=\"PlannerAgent\",\n",
    "        description=\"与えられたタスクを完了するためのサブタスクを計画する Agent。計画を立てるだけでサブタスクの実行は行いません。\",\n",
    "        model_client=model_client,\n",
    "        system_message=\"\"\"ユーザーの質問を適切に回答するためのサブタスクを計画する AI アシスタントです。\n",
    "\n",
    "- あなたはサブタスクの実行をしてはいけません。サブタスクの計画を作成することのみがあなたの役割です。\n",
    "- サブタスクを作成するためのあなたの team members は以下です。:\n",
    "  - contract_lookup_agent: ユーザーの保険加入状況データベースを検索して、回答を行うエージェント。ユーザーの担当者に連絡を送ることができます。\n",
    "  - product_search_agnet: 保険の商品について、商品説明の資料を検索して、回答を行うエージェント。\n",
    "  - SummaryAgent: 他の team members からの情報をもとにユーザーへ最終回答を作成・校正を実行することができます。\n",
    "\n",
    "## サブタスクの計画方法\n",
    "\n",
    "- あなたの役割は、team members を使って出張計画を作成するためのサブタスクを計画することです。\n",
    "- サブタスクの実行は必ず team mebers に委任して行います。\n",
    "- サブタスクの最後は、必ず SummaryAgent に対して、ユーザーへ回答するための出張計画の作成を依頼します。\n",
    "\n",
    "サブタスクの計画は以下のフォーマットで行います:\n",
    "\n",
    "1. <agent> : <task>\n",
    "2. <agent> : <task>\n",
    "...\n",
    "\n",
    "\n",
    "## \"計画\" について\n",
    "最後に Summary Agent にこれまでの会話履歴の要約を依頼します。\n",
    "\"\"\",\n",
    "    )\n",
    "\n",
    "    return agent"
   ]
  },
  {
   "cell_type": "markdown",
   "id": "c3e90560",
   "metadata": {},
   "source": [
    "## Selector Group Chat の作成\n",
    "ここまでで、以下の4つのエージェントを作成するための関数ができました。\n",
    "1. product_search_agent\n",
    "    - 保険商品のデータを検索\n",
    "    - Tool : Azure AI Search \n",
    "1. contract_lookup_agent\n",
    "    - ユーザーの契約情報を検索\n",
    "    - Tool : User Data (もしくはCosmosDB) を検索する関数\n",
    "    - Tool : Logic Apps\n",
    "1. summary_agent\n",
    "    - 会話の要約を行う\n",
    "1. planer_agent\n",
    "    - 与えられたタスクから計画を行う\n",
    "\n",
    "ここからは、作成した4つのエージェントのオーケストレーションを行う、 Group Chat を作成していきます。\n",
    "\n",
    "まずは各エージェントに渡す Azure OpenAI のモデルクライアントを定義します。\\\n",
    "※ 今回は AutoGen のバージョンを 0.4.7 に指定しているため、autogen_ext.models.openai モジュールの [AzureOpenAIChatCompletionClient](https://microsoft.github.io/autogen/0.4.7/reference/python/autogen_ext.models.openai.html#autogen_ext.models.openai.AzureOpenAIChatCompletionClient) を使っています。執筆時最新の AutoGen 0.5系の場合は [AzureAIChatCompletionClient](https://microsoft.github.io/autogen/stable/reference/python/autogen_ext.models.azure.html#module-autogen_ext.models.azure) を用います。\n"
   ]
  },
  {
   "cell_type": "code",
   "execution_count": null,
   "id": "f60edd59",
   "metadata": {},
   "outputs": [],
   "source": [
    "# Model Client の定義\n",
    "aoai_client = AzureOpenAIChatCompletionClient(\n",
    "    azure_deployment=DEPLOYMENT_NAME,\n",
    "    model=\"gpt-4o\",\n",
    "    api_key=AZURE_OPENAI_KEY,\n",
    "    api_version=\"2025-01-01-preview\",\n",
    "    azure_endpoint=AZURE_OPENAI_ENDPOINT,\n",
    ")"
   ]
  },
  {
   "cell_type": "markdown",
   "id": "640a54c5",
   "metadata": {},
   "source": [
    "モデルクライアントの定義を引数に渡すことで各エージェントを作成します。"
   ]
  },
  {
   "cell_type": "code",
   "execution_count": null,
   "id": "81e05039",
   "metadata": {},
   "outputs": [],
   "source": [
    "planner = planner_agent(aoai_client)\n",
    "product_search = product_search_agent(aoai_client)\n",
    "contract_lookup = contract_lookup_agent(aoai_client)\n",
    "summary = summary_agent(aoai_client)"
   ]
  },
  {
   "cell_type": "markdown",
   "id": "43599087",
   "metadata": {},
   "source": [
    "## Selector Group Chat のプロンプト\n",
    "\n",
    "Selector Group Chat 作成時に指定するプロンプトとして以下を定義します。プロンプトには次のようなプレースホルダーを使用することができます：​\n",
    "\n",
    "|プレースホルダー|説明|\n",
    "|---------------|---|\n",
    "|{roles}|各エージェントの名前とその説明が挿入されます。|\n",
    "|{participants}|参加しているエージェントの名前のリストが挿入されます。|\n",
    "|{history}|これまでの会話履歴が挿入されます。​|"
   ]
  },
  {
   "cell_type": "code",
   "execution_count": null,
   "id": "5eba6708",
   "metadata": {},
   "outputs": [],
   "source": [
    "selector_prompt = \"\"\"あなたのタスクは、会話の状況に応じて次のタスクを実行する role を選択することです。\n",
    "## 次の話者の選択ルール\n",
    "\n",
    "各 role の概要以下です。\n",
    "\n",
    "{roles}\n",
    "\n",
    "次のタスクに選択可能な participants は以下です。\n",
    "\n",
    "{participants}\n",
    "\n",
    "以下のルールに従って、次のを選択してください。\n",
    "\n",
    "- 会話履歴を確認し、次の会話に最適な role を選択します。role name のみを返してください。\n",
    "- role は1つだけ選択してください。\n",
    "- 他の role が作業を開始する前に、\"PlannerAgent\" にタスクを割り当て、サブタスクを計画してもらうことが必要です。\n",
    "  - PlannerAgent はサブタスクの計画のみを行います。サブタスクの作業を依頼してはいけません。\n",
    "- PlannerAgent が計画したサブタスクに応じて、role を選択します。\n",
    "- タスクを完了するための必要な情報が揃ったと判断したら \"SummaryAgent\" に最終回答の作成を依頼します。\n",
    "\n",
    "## 会話履歴\n",
    "\n",
    "{history}\n",
    "\"\"\""
   ]
  },
  {
   "cell_type": "markdown",
   "id": "f97cbab4",
   "metadata": {},
   "source": [
    "AutoGen には 無限ループを防止するため [8 つの組み込みの終了条件](https://microsoft.github.io/autogen/stable/user-guide/agentchat-user-guide/tutorial/termination.html#)が定義されています。終了条件は OR 条件で指定できるのが便利です。 \\\n",
    "今回は「応答に \"TERMINATE\" が含まれる」もしくは「最大生成メッセージ数が 10」もしくは「外部からプログラム的に終了させる」という条件にしています。"
   ]
  },
  {
   "cell_type": "code",
   "execution_count": null,
   "id": "660ad573",
   "metadata": {},
   "outputs": [],
   "source": [
    "termination_condition = TextMentionTermination(\"TERMINATE\") | MaxMessageTermination(10) | ExternalTermination()"
   ]
  },
  {
   "cell_type": "markdown",
   "id": "e66c18b6",
   "metadata": {},
   "source": [
    "## 各エージェントをまとめる team の作成\n",
    "各エージェントの作成、終了条件の定義、Selector Group Chat に指定するプロンプトの作成ができたので、次のコードで team を作成します。\n",
    "allow_repeated_speaker は1つのエージェントが続けて会話ができないように指定しています。\n"
   ]
  },
  {
   "cell_type": "code",
   "execution_count": null,
   "id": "f3e7b0fd",
   "metadata": {},
   "outputs": [],
   "source": [
    "team = SelectorGroupChat(\n",
    "    [\n",
    "        planner,\n",
    "        product_search,\n",
    "        contract_lookup,\n",
    "        summary,\n",
    "    ],\n",
    "    model_client=aoai_client,\n",
    "    termination_condition=termination_condition,\n",
    "    selector_prompt=selector_prompt,\n",
    "    allow_repeated_speaker=False,\n",
    ")"
   ]
  },
  {
   "cell_type": "markdown",
   "id": "29c3a9b8",
   "metadata": {},
   "source": [
    "実行は team の実行は ```team.run_stream(task=\"タスクの内容\") ``` で行われます。\n",
    "\n",
    "ここで、次の clean_console 関数は、team の [`run_stream(task=task)`](https://microsoft.github.io/autogen/0.4.7/reference/python/autogen_agentchat.teams.html#autogen_agentchat.teams.BaseGroupChat.run_stream) メソッドの途中処理をコンソール上に見やすく表示させるための関数です。"
   ]
  },
  {
   "cell_type": "code",
   "execution_count": null,
   "id": "a85a746d",
   "metadata": {},
   "outputs": [],
   "source": [
    "async def clean_console(stream):\n",
    "    async for message in stream:\n",
    "        if isinstance(message, TextMessage):\n",
    "            print(\n",
    "                f\"\\n ----------------: {message.source}----------------: \\n {message.content}\"\n",
    "            )\n",
    "        elif isinstance(message, ToolCallRequestEvent):\n",
    "            print(\n",
    "                f\"\\n ----------------: {message.source}----------------: \\n 呼び出すツール: {message.content[0].name} \\n パラメータ: {message.content[0].arguments}\"\n",
    "            )\n",
    "        elif isinstance(message, ToolCallExecutionEvent):\n",
    "            print(\n",
    "                f\"\\n ----------------: {message.source}----------------: \\n ツール呼び出し結果: {message.content[0].content.encode().decode('unicode_escape')} \"\n",
    "            )"
   ]
  },
  {
   "cell_type": "markdown",
   "id": "bd8b01be",
   "metadata": {},
   "source": [
    "それでは実際の挙動を見ていきましょう。\\\n",
    "`\"ユーザーID 1234 の人の加入しているプランを調べ、プランの詳細も調べて教えて\"` といったタスクを与えます。"
   ]
  },
  {
   "cell_type": "code",
   "execution_count": null,
   "id": "0abaf181",
   "metadata": {},
   "outputs": [],
   "source": [
    "task = \"ユーザーID 1234 の人の加入しているプランを調べ、プランの詳細も調べて教えて\"\n",
    "await clean_console(team.run_stream(task=task))"
   ]
  },
  {
   "cell_type": "markdown",
   "id": "f6a046c7",
   "metadata": {},
   "source": [
    "summary_agent によって最終回答が作成され、終了条件の TERMINAL が生成されると、終了判定がされて team での会話が終了します。\n",
    "\n",
    "処理としては次のようなシーケンス図となります。\n",
    "```mermaid \n",
    "sequenceDiagram\n",
    "participant selector as Selector\n",
    "participant planner as PlanningAgent\n",
    "participant agent as 契約管理エージェント\n",
    "participant agent2 as 保険商品案内エージェント\n",
    "participant agent3 as 会話要約エージェント\n",
    "participant search as ユーザーデータベース\n",
    "participant search2 as 保険商品の検索\n",
    "    activate selector\n",
    "    selector ->> selector: ①遷移先決定★\n",
    "    selector ->>+ planner: PlannningAgent 遷移\n",
    "    deactivate selector\n",
    "    \n",
    "    planner ->> planner: ②実行計画策定★\n",
    "    planner -->>- selector: 実行計画(BC)\n",
    "    \n",
    "    activate selector\n",
    "    selector ->> selector: ③遷移先決定★\n",
    "    selector ->>+ agent: 契約管理エージェント 遷移\n",
    "    deactivate selector\n",
    "    \n",
    "    agent ->> agent: ④tool_calls★\n",
    "    agent ->>+ search: 検索API実行\n",
    "    search -->>- agent: result\n",
    "    #agent ->> agent: 結果を書き換え★<br>(reflect_on_tool_use=True)\n",
    "    agent -->>- selector: result(BC)\n",
    "    \n",
    "    activate selector\n",
    "    selector ->> selector: ⑤遷移先決定★\n",
    "    selector ->>+ agent2: 保険商品案内エージェント 遷移\n",
    "    deactivate selector\n",
    "    \n",
    "    agent2 ->> agent2: ⑥tool_calls★\n",
    "    agent2 ->>+ search2: 検索API実行\n",
    "    search2 -->>- agent2: result\n",
    "    agent2-->>- selector: result(BC)\n",
    "    \n",
    "    activate selector\n",
    "    selector ->> selector: ⑦遷移先決定★\n",
    "    deactivate selector\n",
    "\n",
    "    activate agent3\n",
    "    activate selector\n",
    "    selector ->> agent3: ⑧最終回答作成★\n",
    "    agent3 -->> selector: result TERMINATE 最終回答と終了判定(BC)\n",
    "    deactivate selector\n",
    "```\n",
    "\n",
    "別のタスクを与えて試していただくことも可能ですが、run_stream() で返される非同期ジェネレーターが正しく終了されない場合、\n",
    "```\n",
    " ValueError: The team is already running, it cannot run again until it is stopped.　\n",
    "```\n",
    "というエラーが出る場合があります。その際は次のコードセルを実行することで、team を強制終了させることができます。終了させた後に、`team = SelectorGroupChat(...)` のコードセルから再度実行してみてください。"
   ]
  },
  {
   "cell_type": "code",
   "execution_count": null,
   "id": "743839b9",
   "metadata": {},
   "outputs": [],
   "source": [
    "# team を強制終了\n",
    "ExternalTermination().set()"
   ]
  }
 ],
 "metadata": {
  "kernelspec": {
   "display_name": ".venv",
   "language": "python",
   "name": "python3"
  },
  "language_info": {
   "codemirror_mode": {
    "name": "ipython",
    "version": 3
   },
   "file_extension": ".py",
   "mimetype": "text/x-python",
   "name": "python",
   "nbconvert_exporter": "python",
   "pygments_lexer": "ipython3",
   "version": "3.11.9"
  }
 },
 "nbformat": 4,
 "nbformat_minor": 5
}
